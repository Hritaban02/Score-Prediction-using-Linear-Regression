{
  "nbformat": 4,
  "nbformat_minor": 0,
  "metadata": {
    "colab": {
      "name": "Simple_Linear_Regression.ipynb",
      "provenance": [],
      "collapsed_sections": []
    },
    "kernelspec": {
      "name": "python3",
      "display_name": "Python 3"
    },
    "language_info": {
      "name": "python"
    }
  },
  "cells": [
    {
      "cell_type": "markdown",
      "metadata": {
        "id": "rtmlc4HGM09s"
      },
      "source": [
        "# THE SPARKS FOUNDATION - GRIP TASK 1"
      ]
    },
    {
      "cell_type": "markdown",
      "metadata": {
        "id": "5ul-Vy3fx0lJ"
      },
      "source": [
        "# Predict the percentage score of a student based on number of study hours"
      ]
    },
    {
      "cell_type": "markdown",
      "metadata": {
        "id": "RgudvSeBNFAV"
      },
      "source": [
        "## Step 1: Import the libraries"
      ]
    },
    {
      "cell_type": "code",
      "metadata": {
        "id": "HGU-RX08NPcC"
      },
      "source": [
        "import numpy as np\n",
        "import matplotlib.pyplot as plt\n",
        "import pandas as pd"
      ],
      "execution_count": null,
      "outputs": []
    },
    {
      "cell_type": "markdown",
      "metadata": {
        "id": "dozdxvgaNfOV"
      },
      "source": [
        "## Step 2: Import the dataset"
      ]
    },
    {
      "cell_type": "code",
      "metadata": {
        "id": "hrvaLynCNkhl"
      },
      "source": [
        "dataset = pd.read_csv(\"student_scores.csv\")\n",
        "x = dataset.iloc[:,:-1].values\n",
        "y = dataset.iloc[:,-1].values"
      ],
      "execution_count": null,
      "outputs": []
    },
    {
      "cell_type": "code",
      "metadata": {
        "colab": {
          "base_uri": "https://localhost:8080/"
        },
        "id": "JNLZjRZ5OqCY",
        "outputId": "cc687a49-6b49-489b-a4fa-2f025df1cc55"
      },
      "source": [
        "print(dataset)\n",
        "print(type(dataset))"
      ],
      "execution_count": null,
      "outputs": [
        {
          "output_type": "stream",
          "text": [
            "    Hours  Scores\n",
            "0     2.5      21\n",
            "1     5.1      47\n",
            "2     3.2      27\n",
            "3     8.5      75\n",
            "4     3.5      30\n",
            "5     1.5      20\n",
            "6     9.2      88\n",
            "7     5.5      60\n",
            "8     8.3      81\n",
            "9     2.7      25\n",
            "10    7.7      85\n",
            "11    5.9      62\n",
            "12    4.5      41\n",
            "13    3.3      42\n",
            "14    1.1      17\n",
            "15    8.9      95\n",
            "16    2.5      30\n",
            "17    1.9      24\n",
            "18    6.1      67\n",
            "19    7.4      69\n",
            "20    2.7      30\n",
            "21    4.8      54\n",
            "22    3.8      35\n",
            "23    6.9      76\n",
            "24    7.8      86\n",
            "<class 'pandas.core.frame.DataFrame'>\n"
          ],
          "name": "stdout"
        }
      ]
    },
    {
      "cell_type": "code",
      "metadata": {
        "colab": {
          "base_uri": "https://localhost:8080/"
        },
        "id": "eqSh96TxOqM_",
        "outputId": "8e748aa1-145d-4525-c03c-38a2b0585687"
      },
      "source": [
        "print(x)\n",
        "print(type(x))"
      ],
      "execution_count": null,
      "outputs": [
        {
          "output_type": "stream",
          "text": [
            "[[2.5]\n",
            " [5.1]\n",
            " [3.2]\n",
            " [8.5]\n",
            " [3.5]\n",
            " [1.5]\n",
            " [9.2]\n",
            " [5.5]\n",
            " [8.3]\n",
            " [2.7]\n",
            " [7.7]\n",
            " [5.9]\n",
            " [4.5]\n",
            " [3.3]\n",
            " [1.1]\n",
            " [8.9]\n",
            " [2.5]\n",
            " [1.9]\n",
            " [6.1]\n",
            " [7.4]\n",
            " [2.7]\n",
            " [4.8]\n",
            " [3.8]\n",
            " [6.9]\n",
            " [7.8]]\n",
            "<class 'numpy.ndarray'>\n"
          ],
          "name": "stdout"
        }
      ]
    },
    {
      "cell_type": "code",
      "metadata": {
        "colab": {
          "base_uri": "https://localhost:8080/"
        },
        "id": "S34F2u3MOqWs",
        "outputId": "58890962-1371-41d9-d029-3e3fa0342363"
      },
      "source": [
        "print(y)\n",
        "print(type(y))"
      ],
      "execution_count": null,
      "outputs": [
        {
          "output_type": "stream",
          "text": [
            "[21 47 27 75 30 20 88 60 81 25 85 62 41 42 17 95 30 24 67 69 30 54 35 76\n",
            " 86]\n",
            "<class 'numpy.ndarray'>\n"
          ],
          "name": "stdout"
        }
      ]
    },
    {
      "cell_type": "markdown",
      "metadata": {
        "id": "55kSxExrPBAq"
      },
      "source": [
        "## Step 3: Build a Simple Linear Regression Model"
      ]
    },
    {
      "cell_type": "markdown",
      "metadata": {
        "id": "2bpAZ4JAPNMt"
      },
      "source": [
        "##### **Note**: Usually the dataset is split into a training set and test set and then the model is trained on the training set alone and later accessed on the test set, but do to small size of the dataset we will train the model on the whole set. This is done because we want to get as much information as possible to train the model especially when the dataset is small."
      ]
    },
    {
      "cell_type": "code",
      "metadata": {
        "id": "NvcrtlxdPxXp"
      },
      "source": [
        "from sklearn.linear_model import LinearRegression\n",
        "regressor = LinearRegression()"
      ],
      "execution_count": null,
      "outputs": []
    },
    {
      "cell_type": "markdown",
      "metadata": {
        "id": "zKZ5CU5NQ1DP"
      },
      "source": [
        "## Step 4: Train the model on the dataset"
      ]
    },
    {
      "cell_type": "code",
      "metadata": {
        "colab": {
          "base_uri": "https://localhost:8080/"
        },
        "id": "1f3PRr63Q9Rl",
        "outputId": "6e3c1d24-43c6-4e6b-f9e1-2f492540e753"
      },
      "source": [
        "regressor.fit(x, y)"
      ],
      "execution_count": null,
      "outputs": [
        {
          "output_type": "execute_result",
          "data": {
            "text/plain": [
              "LinearRegression(copy_X=True, fit_intercept=True, n_jobs=None, normalize=False)"
            ]
          },
          "metadata": {
            "tags": []
          },
          "execution_count": 7
        }
      ]
    },
    {
      "cell_type": "markdown",
      "metadata": {
        "id": "vkkQoxMFSOXT"
      },
      "source": [
        "## Step 5: Get the predicted scores"
      ]
    },
    {
      "cell_type": "code",
      "metadata": {
        "id": "vgcbqXuySTbc"
      },
      "source": [
        "y_pred = regressor.predict(x)"
      ],
      "execution_count": null,
      "outputs": []
    },
    {
      "cell_type": "code",
      "metadata": {
        "colab": {
          "base_uri": "https://localhost:8080/"
        },
        "id": "6xd8nP3ZSY95",
        "outputId": "95b58e66-7b83-4c46-ac98-b08538c3fe0f"
      },
      "source": [
        "print(y_pred)"
      ],
      "execution_count": null,
      "outputs": [
        {
          "output_type": "stream",
          "text": [
            "[26.92318188 52.3402707  33.76624426 85.57800223 36.69898527 17.14737849\n",
            " 92.4210646  56.25059205 83.62284155 28.87834256 77.75735951 60.16091341\n",
            " 46.47478866 34.74382459 13.23705714 89.48832358 26.92318188 21.05769985\n",
            " 62.11607409 74.8246185  28.87834256 49.40752968 39.63172629 69.9367168\n",
            " 78.73493985]\n"
          ],
          "name": "stdout"
        }
      ]
    },
    {
      "cell_type": "code",
      "metadata": {
        "colab": {
          "base_uri": "https://localhost:8080/"
        },
        "id": "nYco57w7Sedw",
        "outputId": "7dffbcb3-1199-4b58-f406-b486927b956d"
      },
      "source": [
        "print(\"Comparision between True Values and the Predicted Values :\")\n",
        "print(np.concatenate((y.reshape(len(y),1), y_pred.reshape(len(y_pred),1)), axis = 1))"
      ],
      "execution_count": null,
      "outputs": [
        {
          "output_type": "stream",
          "text": [
            "Comparision between True Values and the Predicted Values :\n",
            "[[21.         26.92318188]\n",
            " [47.         52.3402707 ]\n",
            " [27.         33.76624426]\n",
            " [75.         85.57800223]\n",
            " [30.         36.69898527]\n",
            " [20.         17.14737849]\n",
            " [88.         92.4210646 ]\n",
            " [60.         56.25059205]\n",
            " [81.         83.62284155]\n",
            " [25.         28.87834256]\n",
            " [85.         77.75735951]\n",
            " [62.         60.16091341]\n",
            " [41.         46.47478866]\n",
            " [42.         34.74382459]\n",
            " [17.         13.23705714]\n",
            " [95.         89.48832358]\n",
            " [30.         26.92318188]\n",
            " [24.         21.05769985]\n",
            " [67.         62.11607409]\n",
            " [69.         74.8246185 ]\n",
            " [30.         28.87834256]\n",
            " [54.         49.40752968]\n",
            " [35.         39.63172629]\n",
            " [76.         69.9367168 ]\n",
            " [86.         78.73493985]]\n"
          ],
          "name": "stdout"
        }
      ]
    },
    {
      "cell_type": "markdown",
      "metadata": {
        "id": "B8CbUQAHRFtY"
      },
      "source": [
        "## Step 6: Visualize the simple linear regression"
      ]
    },
    {
      "cell_type": "code",
      "metadata": {
        "colab": {
          "base_uri": "https://localhost:8080/",
          "height": 295
        },
        "id": "I81r0rmfROZH",
        "outputId": "1ffdae4d-c567-4054-bc1b-1fe462bfbbd9"
      },
      "source": [
        "plt.scatter(x, y, color = \"red\", label = \"True Values\",)\n",
        "plt.plot(x, y_pred, color = \"blue\", label = \"Predicted Values\")\n",
        "plt.title(\"Simple Linear Regression\")\n",
        "plt.xlabel(\"Number of Study Hours\")\n",
        "plt.ylabel(\"Scores(in %)\")\n",
        "plt.legend()\n",
        "plt.show()"
      ],
      "execution_count": null,
      "outputs": [
        {
          "output_type": "display_data",
          "data": {
            "image/png": "[encoded data removed]",
            "text/plain": [
              "<Figure size 432x288 with 1 Axes>"
            ]
          },
          "metadata": {
            "tags": [],
            "needs_background": "light"
          }
        }
      ]
    },
    {
      "cell_type": "markdown",
      "metadata": {
        "id": "tnPWPOdvV2EI"
      },
      "source": [
        "## Step 7: Predicted Score for Student who studies 9.25 hrs/day"
      ]
    },
    {
      "cell_type": "code",
      "metadata": {
        "colab": {
          "base_uri": "https://localhost:8080/"
        },
        "id": "ZnJ9yRHrWEYS",
        "outputId": "3a6f533d-3752-4d3a-bb07-bd72ecd0df55"
      },
      "source": [
        "predicted_score = regressor.predict([[9.25]])\n",
        "print(f\"Predicted Score for 9.25 hrs/day : {predicted_score}\")"
      ],
      "execution_count": null,
      "outputs": [
        {
          "output_type": "stream",
          "text": [
            "Predicted Score for 9.25 hrs/day : [92.90985477]\n"
          ],
          "name": "stdout"
        }
      ]
    },
    {
      "cell_type": "markdown",
      "metadata": {
        "id": "xr_BVve7Y5MK"
      },
      "source": [
        "## Step 8: Evaluate the Model"
      ]
    },
    {
      "cell_type": "code",
      "metadata": {
        "colab": {
          "base_uri": "https://localhost:8080/"
        },
        "id": "TkUGJU-gY-40",
        "outputId": "5b5a36b4-aa56-4d13-b89a-7059347c2cfc"
      },
      "source": [
        "from sklearn.metrics import r2_score\n",
        "r_squared = r2_score(y, y_pred)\n",
        "print(f\"R-Squared : {r_squared}\")"
      ],
      "execution_count": null,
      "outputs": [
        {
          "output_type": "stream",
          "text": [
            "R-Squared : 0.9529481969048356\n"
          ],
          "name": "stdout"
        }
      ]
    }
  ]
}